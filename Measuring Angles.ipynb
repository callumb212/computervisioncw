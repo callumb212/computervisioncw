{
 "cells": [
  {
   "cell_type": "code",
   "execution_count": 3,
   "metadata": {},
   "outputs": [],
   "source": [
    "import matplotlib, cv2\n",
    "import numpy as np\n",
    "import matplotlib.pyplot as plt\n",
    "\n",
    "%matplotlib inline"
   ]
  },
  {
   "cell_type": "code",
   "execution_count": 4,
   "metadata": {},
   "outputs": [
    {
     "data": {
      "text/plain": [
       "'C:\\\\Users\\\\edwar\\\\Computer Vision\\\\Coursework\\\\Task1Dataset\\\\angle'"
      ]
     },
     "execution_count": 4,
     "metadata": {},
     "output_type": "execute_result"
    }
   ],
   "source": [
    "import os\n",
    "os.getcwd()"
   ]
  },
  {
   "cell_type": "markdown",
   "metadata": {},
   "source": [
    "# Trying different threshold values"
   ]
  },
  {
   "cell_type": "code",
   "execution_count": 9,
   "metadata": {},
   "outputs": [
    {
     "name": "stdout",
     "output_type": "stream",
     "text": [
      "Threshold 1 = 38.25, Threshold 2 = 63.75\n"
     ]
    }
   ],
   "source": [
    "img = cv2.imread('image1.png')\n",
    "gray_img = cv2.cvtColor(img, cv2.COLOR_RGB2GRAY)\n",
    "\n",
    "min_thresh = 0.75*np.median(gray_img)\n",
    "max_thresh = 1.25*np.median(gray_img)\n",
    "print(f\"Threshold 1 = {min_thresh}, Threshold 2 = {max_thresh}\")"
   ]
  },
  {
   "cell_type": "code",
   "execution_count": 10,
   "metadata": {},
   "outputs": [
    {
     "data": {
      "text/plain": [
       "<matplotlib.image.AxesImage at 0x25a684d2048>"
      ]
     },
     "execution_count": 10,
     "metadata": {},
     "output_type": "execute_result"
    },
    {
     "data": {
      "image/png": "[encoded data removed]",
      "text/plain": [
       "<Figure size 432x288 with 2 Axes>"
      ]
     },
     "metadata": {},
     "output_type": "display_data"
    }
   ],
   "source": [
    "img = cv2.imread('image1.png')\n",
    "\n",
    "line_edges = cv2.Canny(img, threshold1=38.25, threshold2=63.75) # 0.75 and 1.25 * median pixel\n",
    "line_edges_2 = cv2.Canny(img, threshold1=10, threshold2=100) # Experiment\n",
    "\n",
    "f, axarr = plt.subplots(1,2)\n",
    "axarr[0].imshow(line_edges[0:300, 500:800])\n",
    "axarr[1].imshow(line_edges_2[0:300, 500:800])"
   ]
  },
  {
   "cell_type": "markdown",
   "metadata": {},
   "source": [
    "### Main Measure Angle Function"
   ]
  },
  {
   "cell_type": "code",
   "execution_count": 11,
   "metadata": {},
   "outputs": [],
   "source": [
    "import cv2\n",
    "import numpy as np\n",
    "import matplotlib.pyplot as plt\n",
    "\n",
    "def measure_angle(img_number):\n",
    "    '''\n",
    "    Coursework specific function, requires images in working directory saved as image1.png etc.\n",
    "    \n",
    "    Will return the calculated angle and number of detected lines.\n",
    "    \n",
    "    Will also save visualisation with calculated lines superimposed.\n",
    "    '''\n",
    "    \n",
    "    # Step 1: Read the image as a grayscale image\n",
    "    img = cv2.imread(f'image{img_number}.png')\n",
    "    gray_img = cv2.cvtColor(img, cv2.COLOR_RGB2GRAY)\n",
    "    \n",
    "    ### Step 2: Canny & Hough Transform on Skeletonised image\n",
    "    line_edges = cv2.Canny(gray_img, threshold1=38.25, threshold2=63.75)\n",
    "    lines = cv2.HoughLines(line_edges, 1,np.pi/360,80)\n",
    "    \n",
    "    ### Step 3: Measure the angle and Create a visualisation of lines on top of original image\n",
    "    for j in range(1, len(lines)):\n",
    "        for rho,theta in lines[0]:\n",
    "            theta_i = theta\n",
    "            rho_i = rho\n",
    "        for rho,theta in lines[j]:\n",
    "            theta_j = theta\n",
    "            rho_j = rho\n",
    "        \n",
    "        angle = max(theta_i, theta_j) - min(theta_i,theta_j)\n",
    "        \n",
    "        if rho_i < 0 or rho_j < 0: # if rho is negative for one of the two lines, we'll be calculating the wrong angle\n",
    "            angle = np.pi - angle\n",
    "        \n",
    "        if angle > 0.04 and angle < np.pi - 0.04: # make sure that it's not picking out 2 lines that are parallel\n",
    "            break\n",
    "            \n",
    "           \n",
    "            \n",
    "    img = cv2.imread(f'image{img_number}.png')\n",
    "    for final_line in [0, j]:\n",
    "        for rho,theta in lines[final_line]:\n",
    "            a = np.cos(theta)\n",
    "            b = np.sin(theta)\n",
    "            x0 = a*rho\n",
    "            y0 = b*rho\n",
    "            x1 = int(x0 + 1000*(-b))\n",
    "            y1 = int(y0 + 1000*(a))\n",
    "            x2 = int(x0 - 1000*(-b))\n",
    "            y2 = int(y0 - 1000*(a))\n",
    "               \n",
    "           \n",
    "            cv2.line(img,(x1,y1),(x2,y2),(0,0,255),2)\n",
    "    \n",
    "    cv2.imwrite(f'houghlines{img_number}.jpg',img)\n",
    "    plt.imshow(img)\n",
    "    \n",
    "    return 360*(angle/(2*np.pi)), lines"
   ]
  },
  {
   "cell_type": "markdown",
   "metadata": {},
   "source": [
    "### Results"
   ]
  },
  {
   "cell_type": "code",
   "execution_count": 12,
   "metadata": {},
   "outputs": [
    {
     "name": "stdout",
     "output_type": "stream",
     "text": [
      "39.99999883637168 6\n",
      "20.000001125733135 11\n",
      "60.000001669652114 7\n",
      "120.00000516053706 7\n",
      "53.000008987916516 10\n",
      "72.00000200358254 14\n",
      "95.0000033264838 17\n",
      "108.99999916260985 16\n",
      "18.000000500895634 10\n",
      "90.00000250447816 14\n"
     ]
    },
    {
     "data": {
      "image/png": "[encoded data removed]",
      "text/plain": [
       "<Figure size 432x288 with 1 Axes>"
      ]
     },
     "metadata": {},
     "output_type": "display_data"
    }
   ],
   "source": [
    "for i in range(1,11):\n",
    "    angle, lines = measure_angle(i)\n",
    "    \n",
    "    print(angle, len(lines))"
   ]
  },
  {
   "cell_type": "markdown",
   "metadata": {},
   "source": [
    "### With Skeletonisation"
   ]
  },
  {
   "cell_type": "code",
   "execution_count": null,
   "metadata": {},
   "outputs": [],
   "source": [
    "import cv2\n",
    "import numpy as np\n",
    "import matplotlib.pyplot as plt\n",
    "\n",
    "def measure_angle(img_number):\n",
    "    '''\n",
    "    Coursework specific function, requires images in working directory saved as image1.png etc.\n",
    "    \n",
    "    Will return the calculated angle and number of detected lines.\n",
    "    \n",
    "    Will also save visualisation with calculated lines superimposed.\n",
    "    '''\n",
    "    \n",
    "    \n",
    "    ### Step 1: Skeletonise Image\n",
    "    # Skeletonisation is probably not essential since top, bottom lines should be parallel anyway\n",
    "    # but could be a good option to reduce down to two lines and improve quality of visualisation\n",
    "    # https://medium.com/analytics-vidhya/skeletonization-in-python-using-opencv-b7fa16867331\n",
    "    \n",
    "    # Read the image as a grayscale image\n",
    "    img = cv2.imread(f'image{img_number}.png')\n",
    "    gray_img = cv2.cvtColor(img, cv2.COLOR_RGB2GRAY)\n",
    "    \n",
    "    # Threshold the image\n",
    "    ret, img = cv2.threshold(gray_img, 127, 255, 0)\n",
    "    \n",
    "    # Step 1: Create an empty skeleton\n",
    "    size = np.size(img)\n",
    "    skel = np.zeros(img.shape, np.uint8)\n",
    "    \n",
    "    # Get a Cross Shaped Kernel\n",
    "    element = cv2.getStructuringElement(cv2.MORPH_CROSS, (3,3))\n",
    "    \n",
    "    # Repeat steps 2-4\n",
    "    while True:\n",
    "        #Step 2: Open the image\n",
    "        open = cv2.morphologyEx(img, cv2.MORPH_OPEN, element)\n",
    "        #Step 3: Substract open from the original image\n",
    "        temp = cv2.subtract(img, open)\n",
    "        #Step 4: Erode the original image and refine the skeleton\n",
    "        eroded = cv2.erode(img, element)\n",
    "        skel = cv2.bitwise_or(skel,temp)\n",
    "        img = eroded.copy()\n",
    "        # Step 5: If there are no white pixels left ie.. the image has been completely eroded, quit the loop\n",
    "        if cv2.countNonZero(img)==0:\n",
    "            break\n",
    "    \n",
    "    plt.imshow(skel)\n",
    "    \n",
    "    \n",
    "    ### Step 2: Canny & Hough Transform on Skeletonised image\n",
    "    line_edges = cv2.Canny(skel, threshold1=38.25, threshold2=63.75)\n",
    "    lines = cv2.HoughLines(skel,1,np.pi/360,80)\n",
    "    \n",
    "    ### Step 3: Measure the angle and Create a visualisation of lines on top of original image\n",
    "    \n",
    "\n",
    "    for j in range(1, len(lines)):\n",
    "        for rho,theta in lines[0]:\n",
    "            theta_i = theta\n",
    "        for rho,theta in lines[j]:\n",
    "            theta_j = theta\n",
    "            \n",
    "        angle = max(theta_i, theta_j) - min(theta_i,theta_j)\n",
    "        \n",
    "        if rho_i < 0 or rho_j < 0: # if rho is negative for one of the two lines, we'll be calculating the wrong angle\n",
    "            angle = np.pi - angle\n",
    "        \n",
    "        if angle > 0.04 and angle < np.pi - 0.04: # make sure that it's not picking out 2 lines that are parallel\n",
    "            break\n",
    "            \n",
    "            \n",
    "    img = cv2.imread(f'image{img_number}.png')\n",
    "    for final_line in [0, j]:\n",
    "        for rho,theta in lines[final_line]:\n",
    "            a = np.cos(theta)\n",
    "            b = np.sin(theta)\n",
    "            x0 = a*rho\n",
    "            y0 = b*rho\n",
    "            x1 = int(x0 + 1000*(-b))\n",
    "            y1 = int(y0 + 1000*(a))\n",
    "            x2 = int(x0 - 1000*(-b))\n",
    "            y2 = int(y0 - 1000*(a))\n",
    "               \n",
    "           \n",
    "            cv2.line(img,(x1,y1),(x2,y2),(0,0,255),2)\n",
    "    \n",
    "    cv2.imwrite(f'houghlines{img_number}.jpg',img)\n",
    "    plt.imshow(img)\n",
    "    \n",
    "    return 360*(angle/(2*np.pi)), lines"
   ]
  }
 ],
 "metadata": {
  "kernelspec": {
   "display_name": "Python 3",
   "language": "python",
   "name": "python3"
  },
  "language_info": {
   "codemirror_mode": {
    "name": "ipython",
    "version": 3
   },
   "file_extension": ".py",
   "mimetype": "text/x-python",
   "name": "python",
   "nbconvert_exporter": "python",
   "pygments_lexer": "ipython3",
   "version": "3.6.5"
  }
 },
 "nbformat": 4,
 "nbformat_minor": 2
}
