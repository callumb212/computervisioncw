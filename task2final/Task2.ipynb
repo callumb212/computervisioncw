{
 "cells": [
  {
   "cell_type": "code",
   "execution_count": 197,
   "id": "f621ebe9",
   "metadata": {},
   "outputs": [],
   "source": [
    "import matplotlib, cv2\n",
    "import numpy as np\n",
    "import matplotlib.pyplot as plt\n",
    "from matplotlib.backends.backend_agg import FigureCanvasAgg as FigureCanvas\n",
    "from matplotlib.figure import Figure\n",
    "import glob\n",
    "import math\n",
    "import random\n",
    "from scipy import ndimage\n",
    "%matplotlib inline"
   ]
  },
  {
   "cell_type": "code",
   "execution_count": 198,
   "id": "7302805a",
   "metadata": {},
   "outputs": [],
   "source": [
    "def show(img):\n",
    "    plt.imshow(cv2.cvtColor(img, cv2.COLOR_GRAY2RGB))"
   ]
  },
  {
   "cell_type": "code",
   "execution_count": 199,
   "id": "6153b48a",
   "metadata": {},
   "outputs": [],
   "source": [
    "def load_training_images(n):\n",
    "        images = np.full([n], None)\n",
    "        names = np.full([n], str)\n",
    "        i = 0\n",
    "        for name in glob.glob('dataset1/training/png/*.png'):\n",
    "            images[i] = cv2.cvtColor(cv2.imread(name), cv2.COLOR_BGR2RGB)\n",
    "            names[i] = name[26:len(name)-4]\n",
    "            i += 1\n",
    "        return [images, names]"
   ]
  },
  {
   "cell_type": "code",
   "execution_count": 200,
   "id": "d72efd8f",
   "metadata": {},
   "outputs": [],
   "source": [
    "def generate_pyramids(templates):\n",
    "    n = len(templates)\n",
    "    octaves = 3\n",
    "    spo = 2 # scales per octave\n",
    "    nscales = (octaves * spo) + 1\n",
    "    template_size = 512\n",
    "    scale_factor = (1 /(2 ** (1 / spo))) \n",
    "    sigma = round(scale_factor / math.pi, 2)\n",
    "    pyramids = np.full((n), np.array)\n",
    "    \n",
    "    for i in range(n):\n",
    "        pyramid = np.full((nscales), np.array)\n",
    "        for j in range(nscales):\n",
    "            if j == 0:\n",
    "                pyramid[0] = cv2.cvtColor(templates[i], cv2.COLOR_RGB2GRAY)\n",
    "                size = template_size\n",
    "            else:\n",
    "                size = round(size * scale_factor)\n",
    "                temp = cv2.GaussianBlur(pyramid[j - 1], [0, 0], sigmaX = sigma)\n",
    "                pyramid[j] = cv2.resize(temp, [size, size])\n",
    "        pyramids[i] = pyramid\n",
    "    return pyramids"
   ]
  },
  {
   "cell_type": "code",
   "execution_count": 201,
   "id": "60dcd78b",
   "metadata": {},
   "outputs": [],
   "source": [
    "def slowsimilarity(img1, img2):\n",
    "    if(not len(img1) == len(img2) or not len(img1[0]) == len(img2[0])):\n",
    "        print(\"Incompatible sizes\")\n",
    "        return\n",
    "    acc = 0\n",
    "    for i in range(len(img1)):\n",
    "        for j in range(len(img1[0])):\n",
    "            acc += abs(int(img1[i][j]) - int(img2[i][j]))\n",
    "    return acc / (len(img1) ** 2)"
   ]
  },
  {
   "cell_type": "code",
   "execution_count": 202,
   "id": "a62f60a9",
   "metadata": {},
   "outputs": [],
   "source": [
    "def quicksimilarity(img1, img2):\n",
    "    quality = 6\n",
    "    if(not len(img1) == len(img2) or not len(img1[0]) == len(img2[0])):\n",
    "        print(\"Incompatible sizes\")\n",
    "        return\n",
    "    acc = 0\n",
    "    for i in range(quality):\n",
    "        for j in range(quality):\n",
    "            x = int((i / quality) * len(img1))\n",
    "            y = int((j / quality) * len(img1[0]))\n",
    "            acc += abs(int(img1[x][y]) - int(img2[x][y]))\n",
    "    return acc / (quality ** 2)"
   ]
  },
  {
   "cell_type": "code",
   "execution_count": 377,
   "id": "85012286",
   "metadata": {},
   "outputs": [],
   "source": [
    "def detect_image(template, testimage):\n",
    "    nscales = 7\n",
    "    basesize = len(testimage)\n",
    "    bestscore = 256\n",
    "    xpos = []\n",
    "    ypos = []\n",
    "    scores = []\n",
    "    templates = []\n",
    "    candsize = basesize\n",
    "    skipnext = False\n",
    "    o_dscale = 2\n",
    "    \n",
    "    for s in range(nscales):\n",
    "        if(s < 5): dscale = o_dscale * 4\n",
    "        elif(s < 6): dscale = o_dscale * 2\n",
    "        else: dscale = o_dscale\n",
    "        candsize = len(template[s])\n",
    "        if(candsize == basesize):\n",
    "            score = quicksimilarity(template[s], testimage)\n",
    "            if(score < bestscore):\n",
    "                bestscore = score\n",
    "        else:\n",
    "            newsize = round(candsize / dscale)\n",
    "            testimgsize = round(basesize / dscale)\n",
    "            X = round((basesize - candsize) / dscale)\n",
    "            scaledtemplate = cv2.resize(template[s], [newsize, newsize])\n",
    "            scaledtestimg = cv2.resize(testimage, [testimgsize, testimgsize])\n",
    "            for x in range(X):\n",
    "                for y in range(X):\n",
    "                    if(skipnext):\n",
    "                        skipnext = False\n",
    "                        continue\n",
    "                    #score = quicksimilarity(template[s], testimage[y:(y + candsize), x:(x + candsize)])\n",
    "                    score = quicksimilarity(scaledtemplate, scaledtestimg[y:(y + newsize), x:(x + newsize)])\n",
    "                    #print(score)\n",
    "                    if(score < 20):\n",
    "                        xpos.append(dscale * x)\n",
    "                        ypos.append(dscale * y)\n",
    "                        scores.append(score)\n",
    "                        templates.append(s)\n",
    "                    if(score > 50):\n",
    "                        skipnext = True\n",
    "    #print(len(scores))\n",
    "    #non-maximum suppresion\n",
    "    R = []\n",
    "    for i in range(len(scores) - 1):\n",
    "        for j in range(i + 1, len(scores)):\n",
    "            maxlen = max(len(template[templates[i]]), len(template[templates[j]]))\n",
    "            if(abs(xpos[i] - xpos[j]) < maxlen and \n",
    "                  abs(ypos[i] - ypos[j]) < maxlen):\n",
    "                if(scores[i] < scores[j]):\n",
    "                    R.append(j)\n",
    "                else: R.append(i)\n",
    "    R = set(R)\n",
    "    R2 = list(R)\n",
    "    R2.sort(reverse = True)\n",
    "    for r in R2:\n",
    "        del scores[r]\n",
    "        del xpos[r]\n",
    "        del ypos[r]\n",
    "        del templates[r]\n",
    "    \n",
    "    #fine-tune\n",
    "    nsolutions = len(scores)\n",
    "    #print(nsolutions)\n",
    "    if(nsolutions == 0):\n",
    "        return [[], None, 0, 0]\n",
    "    \n",
    "    for s in range(nsolutions):\n",
    "        \n",
    "        bestsize = len(template[templates[s]])\n",
    "        x = xpos[s]\n",
    "        y = ypos[s]\n",
    "\n",
    "        for i in range(-6, 6):\n",
    "            for j in range(-6, 6):\n",
    "                if(y + i < 0 or y + i + bestsize > basesize or x + j < 0 or x + j + bestsize > basesize):\n",
    "                    continue\n",
    "                if(not i == 0 or not j == 0):\n",
    "                    score = quicksimilarity(template[templates[s]], testimage[y + i: y + i + bestsize, x + j: x + j + bestsize])\n",
    "                    #print(score)\n",
    "                    if(score < scores[s]):\n",
    "                        scores[s] = score\n",
    "                        ypos[s] = y + i\n",
    "                        xpos[s] = x + j\n",
    "         \n",
    "    \n",
    "    return [scores, templates, xpos, ypos]"
   ]
  },
  {
   "cell_type": "code",
   "execution_count": 384,
   "id": "32e7e239",
   "metadata": {},
   "outputs": [],
   "source": [
    "def detect_images(templates, names, pyramids, I):\n",
    "    fig = plt.figure()\n",
    "    ax = fig.gca()\n",
    "    ntraining_images = 50\n",
    "    colours = [\"red\", \"blue\", \"green\", \"orange\", \"purple\"]\n",
    "    imgTest = cv2.cvtColor(cv2.imread(\"dataset1/test/images/test_image_\" + str(I + 1) + \".png\"), cv2.COLOR_BGR2RGB)\n",
    "    j = 0\n",
    "    for i in range(ntraining_images):\n",
    "        iterate_colour = False\n",
    "        [scores, t, xpos, ypos] = detect_image(pyramids[i], cv2.cvtColor(imgTest, cv2.COLOR_RGB2GRAY))\n",
    "        for s in range(len(scores)):\n",
    "            if(scores[s] < 8):\n",
    "                ax.add_patch(plt.Rectangle([xpos[s], ypos[s]], len(pyramids[i][t[s]]), len(pyramids[i][t[s]]), fill = False, ec = colours[j], label = names[i]))\n",
    "                iterate_colour = True\n",
    "        if(iterate_colour):\n",
    "            j += 1\n",
    "            if(j == 5):\n",
    "                j = 0\n",
    "            \n",
    "    \n",
    "    ax.legend()\n",
    "    ax.imshow(imgTest)\n",
    "    canvas = FigureCanvas(fig)\n",
    "    canvas.draw()\n",
    "    buf = canvas.buffer_rgba()\n",
    "    image = np.asarray(buf)\n",
    "    image = cv2.cvtColor(image, cv2.COLOR_RGB2BGR)\n",
    "    cv2.imwrite(\"output_\" + str(I + 1) + \".png\", image)"
   ]
  },
  {
   "cell_type": "code",
   "execution_count": 385,
   "id": "dfe723bf",
   "metadata": {
    "scrolled": true
   },
   "outputs": [
    {
     "name": "stdout",
     "output_type": "stream",
     "text": [
      "0\n"
     ]
    },
    {
     "data": {
      "image/png": "[encoded data removed]",
      "text/plain": [
       "<Figure size 432x288 with 1 Axes>"
      ]
     },
     "metadata": {
      "needs_background": "light"
     },
     "output_type": "display_data"
    }
   ],
   "source": [
    "[templates, names] = load_training_images(ntraining_images)\n",
    "pyramids = generate_pyramids(templates)\n",
    "for i in range(20):\n",
    "    detect_images(templates, names, pyramids, i)\n",
    "    print(i)"
   ]
  },
  {
   "cell_type": "code",
   "execution_count": 386,
   "id": "c9fbc275",
   "metadata": {},
   "outputs": [],
   "source": [
    "#ntraining_images = 50\n",
    "#[templates, names] = load_training_images(ntraining_images)\n",
    "#pyramids = generate_pyramids(templates)\n",
    "#show(pyramids[2][6])"
   ]
  },
  {
   "cell_type": "code",
   "execution_count": 387,
   "id": "88f2fad4",
   "metadata": {},
   "outputs": [],
   "source": [
    "#imgTest = cv2.cvtColor(cv2.imread(\"dataset1/test/images/test_image_3.png\"), cv2.COLOR_BGR2GRAY)\n",
    "#y = 141\n",
    "#x = 121\n",
    "#imgTest = imgTest[y:y + 64, x:x + 64]\n",
    "#print(quicksimilarity(imgTest, pyramids[2][6]))\n",
    "#newsize = round(len(imgTest) / 4)\n",
    "#pyrascale = cv2.resize(pyramids[2][6], [newsize, newsize])\n",
    "#testscale = cv2.resize(imgTest, [newsize, newsize])\n",
    "#show(pyrascale)\n",
    "#print(quicksimilarity(pyrascale, testscale))\n"
   ]
  },
  {
   "cell_type": "code",
   "execution_count": null,
   "id": "3c6e16e0",
   "metadata": {},
   "outputs": [],
   "source": []
  }
 ],
 "metadata": {
  "kernelspec": {
   "display_name": "Python 3 (ipykernel)",
   "language": "python",
   "name": "python3"
  },
  "language_info": {
   "codemirror_mode": {
    "name": "ipython",
    "version": 3
   },
   "file_extension": ".py",
   "mimetype": "text/x-python",
   "name": "python",
   "nbconvert_exporter": "python",
   "pygments_lexer": "ipython3",
   "version": "3.9.7"
  }
 },
 "nbformat": 4,
 "nbformat_minor": 5
}
